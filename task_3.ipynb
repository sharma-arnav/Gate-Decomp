{
 "cells": [
  {
   "cell_type": "code",
   "execution_count": 8,
   "metadata": {},
   "outputs": [],
   "source": [
    "import numpy as np\n",
    "import scipy.linalg as la"
   ]
  },
  {
   "cell_type": "code",
   "execution_count": 42,
   "metadata": {},
   "outputs": [],
   "source": [
    "### Helper Functions ###\n",
    "\n",
    "# Returns the kronecker product of many operators\n",
    "def multikron(ops):\n",
    "    if len(ops) >=3:\n",
    "        return np.kron(ops[0], multikron(ops[1:]))\n",
    "    else:\n",
    "        return np.kron(ops[0], ops[1])\n",
    "\n",
    "# Arbitrary CNOT matrix (supports nonadjacent qubits)\n",
    "## c = control, t = target, n = number of qubits\n",
    "def arb_cx(c, t, n):\n",
    "    ops0 = [id] * n\n",
    "    ops0[c-1] = np.array([[1,0],[0,0]])\n",
    "    \n",
    "    ops1 = [id] * n\n",
    "    ops1[c-1] = np.array([[0,0],[0,1]])\n",
    "    ops1[t-1] = np.array([[0,1],[1,0]])\n",
    "\n",
    "    return multikron(ops0) + multikron(ops1)\n",
    "\n",
    "# Arbitrary Controlled-V (supports nonadjacent qubits)\n",
    "def arb_cv(ctrl, t, n, a, b, c, d):\n",
    "    opsDA = [id] * n\n",
    "    opsIB = [id] * n\n",
    "    opsIC = [id] * n\n",
    "\n",
    "    opsDA[ctrl-1] = d\n",
    "    opsDA[t - 1] = a\n",
    "\n",
    "    opsIB[t-1] = b\n",
    "    opsIC[t-1] = c\n",
    "\n",
    "    return multikron(opsDA) @ arb_cx(ctrl,t,n) @ multikron(opsIB) @ arb_cx(ctrl,t,n) @ multikron(opsIC)\n",
    "\n",
    "\n",
    "\n",
    "# Returns parameterized unitary as given in the task\n",
    "def U(t, p, l):\n",
    "    return np.array([[np.cos(t/2), -np.exp(1j*l)*np.sin(t/2)],\n",
    "                     [np.exp(1j*p)*np.sin(t/2), np.exp(1j*(p+l))*np.cos(t/2)]])"
   ]
  },
  {
   "cell_type": "code",
   "execution_count": 10,
   "metadata": {},
   "outputs": [],
   "source": [
    "### Useful Operators ###\n",
    "id = np.eye(2)\n",
    "x = np.array([[0,1],[1,0]])\n",
    "y = np.array([[0,-1j],[1j,0]])\n",
    "z = np.array([[1,0],[0,-1]])\n",
    "cx = np.array([[1, 0, 0, 0], [0, 1, 0, 0], [0, 0, 0, 1], [0, 0, 1, 0]])"
   ]
  },
  {
   "cell_type": "code",
   "execution_count": 18,
   "metadata": {},
   "outputs": [],
   "source": [
    "A = la.expm((-1j/2)*(-3*np.pi/2)*z) @ la.expm((-1j/4)*(-np.pi/2)*y)\n",
    "B = la.expm((1j/4)*(-np.pi/2)*y) @ la.expm((1j/4*(-2*np.pi)*z))\n",
    "C = la.expm((1j/4)*(-np.pi)*z)\n",
    "D = np.array([[1,0],[0,np.exp(1j*(-3*np.pi/4))]])"
   ]
  },
  {
   "cell_type": "code",
   "execution_count": 38,
   "metadata": {},
   "outputs": [
    {
     "name": "stdout",
     "output_type": "stream",
     "text": [
      "[[ 0.00000000e+00+0.00000000e+00j -5.55111512e-17-5.55111512e-17j]\n",
      " [-1.11022302e-16+1.11022302e-16j  3.33066907e-16-3.33066907e-16j]]\n",
      "[[ 1.00000000e+00+0.00000000e+00j  4.59925572e-17-2.39291222e-17j]\n",
      " [-1.40922799e-17+2.39291222e-17j  1.00000000e+00+1.11022302e-16j]]\n",
      "\n",
      "\n",
      "[[0.+0.j 0.+0.j]\n",
      " [0.+0.j 0.+0.j]]\n",
      "[[1.00000000e+00+1.79345371e-17j 2.16349973e-17-4.32978028e-17j]\n",
      " [2.16349973e-17-4.32978028e-17j 1.00000000e+00+2.26994823e-16j]]\n",
      "\n",
      "\n",
      "[[0.+0.j 0.+0.j]\n",
      " [0.+0.j 0.+0.j]]\n",
      "[[1.+0.00000000e+00j 0.+0.00000000e+00j]\n",
      " [0.+0.00000000e+00j 1.+3.33066907e-16j]]\n",
      "\n",
      "\n",
      "[[0.+0.j 0.+0.j]\n",
      " [0.+0.j 0.+0.j]]\n",
      "[[1.+0.00000000e+00j 0.+0.00000000e+00j]\n",
      " [0.+0.00000000e+00j 1.+2.22044605e-16j]]\n",
      "\n",
      "\n"
     ]
    }
   ],
   "source": [
    "## D has theta = 0, phi = 0 , lambda = -3pi/4\n",
    "## C has theta, phi = 0 and lambda = pi/2 and a global phase exp(-i*pi/4) \n",
    "## B has a global phase exp(-i*pi/2) and theta = pi/4, phi = 0, lambda = pi\n",
    "## A has global phase exp(3i*pi/4), theta = pi/4, phi = 3pi/2, lamda = pi\n",
    "\n",
    "## Conjugates are trivially constructed by with the same theta, phi' = -lambda - pi, lambda' = -phi - pi\n",
    "\n",
    "a = np.exp(3*1j*np.pi/4) * U(np.pi/4, 3*np.pi/2, np.pi)\n",
    "a_dag = np.exp(-3*1j*np.pi/4) * U(np.pi/4, -np.pi - np.pi, -3*np.pi/2 - np.pi)\n",
    "print(A - a)\n",
    "print(a@a_dag)\n",
    "print('\\n')\n",
    "\n",
    "b = np.exp(-1j*np.pi/2) * U(np.pi/4, 0, np.pi)\n",
    "b_dag = np.exp(1j*np.pi/2) * U(np.pi/4, -np.pi - np.pi, -np.pi)\n",
    "print(B - b)\n",
    "print(b@b_dag)\n",
    "print('\\n')\n",
    "\n",
    "c = np.exp(-1j*np.pi/4) * U(0, 0, np.pi/2)\n",
    "c_dag = np.exp(1j*np.pi/4) * U(0, -np.pi/2 - np.pi, -np.pi)\n",
    "print(C - c)\n",
    "print(c@c_dag)\n",
    "print('\\n')\n",
    "\n",
    "d = U(0, 0, -3*np.pi/4)\n",
    "d_dag = U(0, 3*np.pi/4 - np.pi, -np.pi)\n",
    "print(D - d)\n",
    "print(d@d_dag)\n",
    "print('\\n')"
   ]
  },
  {
   "cell_type": "code",
   "execution_count": 45,
   "metadata": {},
   "outputs": [
    {
     "name": "stdout",
     "output_type": "stream",
     "text": [
      "[[ 1.00000000e+00-2.55184613e-16j -3.24991196e-18+3.62071836e-17j\n",
      "   0.00000000e+00+0.00000000e+00j  0.00000000e+00+0.00000000e+00j\n",
      "   0.00000000e+00+0.00000000e+00j  0.00000000e+00+0.00000000e+00j\n",
      "   0.00000000e+00+0.00000000e+00j  0.00000000e+00+0.00000000e+00j]\n",
      " [-5.33759432e-17-2.45777490e-17j  1.00000000e+00+3.29744180e-16j\n",
      "   0.00000000e+00+0.00000000e+00j  0.00000000e+00+0.00000000e+00j\n",
      "   0.00000000e+00+0.00000000e+00j  0.00000000e+00+0.00000000e+00j\n",
      "   0.00000000e+00+0.00000000e+00j  0.00000000e+00+0.00000000e+00j]\n",
      " [ 0.00000000e+00+0.00000000e+00j  0.00000000e+00+0.00000000e+00j\n",
      "   1.00000000e+00+2.77555756e-16j -1.38777878e-16+5.55111512e-17j\n",
      "   0.00000000e+00+0.00000000e+00j  0.00000000e+00+0.00000000e+00j\n",
      "   0.00000000e+00+0.00000000e+00j  0.00000000e+00+0.00000000e+00j]\n",
      " [ 0.00000000e+00+0.00000000e+00j  0.00000000e+00+0.00000000e+00j\n",
      "   2.77555756e-17+1.11022302e-16j  1.00000000e+00+3.60822483e-16j\n",
      "   0.00000000e+00+0.00000000e+00j  0.00000000e+00+0.00000000e+00j\n",
      "   0.00000000e+00+0.00000000e+00j  0.00000000e+00+0.00000000e+00j]\n",
      " [ 0.00000000e+00+0.00000000e+00j  0.00000000e+00+0.00000000e+00j\n",
      "   0.00000000e+00+0.00000000e+00j  0.00000000e+00+0.00000000e+00j\n",
      "   1.00000000e+00+3.05311332e-16j -5.90033892e-18+1.71752931e-16j\n",
      "   0.00000000e+00+0.00000000e+00j  0.00000000e+00+0.00000000e+00j]\n",
      " [ 0.00000000e+00+0.00000000e+00j  0.00000000e+00+0.00000000e+00j\n",
      "   0.00000000e+00+0.00000000e+00j  0.00000000e+00+0.00000000e+00j\n",
      "  -1.69963291e-16+6.73468050e-17j  1.00000000e+00+3.05311332e-16j\n",
      "   0.00000000e+00+0.00000000e+00j  0.00000000e+00+0.00000000e+00j]\n",
      " [ 0.00000000e+00+0.00000000e+00j  0.00000000e+00+0.00000000e+00j\n",
      "   0.00000000e+00+0.00000000e+00j  0.00000000e+00+0.00000000e+00j\n",
      "   0.00000000e+00+0.00000000e+00j  0.00000000e+00+0.00000000e+00j\n",
      "   2.77555756e-16-8.32667268e-17j  1.00000000e+00+6.38378239e-16j]\n",
      " [ 0.00000000e+00+0.00000000e+00j  0.00000000e+00+0.00000000e+00j\n",
      "   0.00000000e+00+0.00000000e+00j  0.00000000e+00+0.00000000e+00j\n",
      "   0.00000000e+00+0.00000000e+00j  0.00000000e+00+0.00000000e+00j\n",
      "   1.00000000e+00-5.55111512e-17j -4.44089210e-16-1.66533454e-16j]]\n"
     ]
    }
   ],
   "source": [
    "CV = np.kron(d,a) @ cx @ np.kron(id,b) @ cx @ np.kron(id,c)\n",
    "CV_13 = arb_cv(1,3,3,a,b,c,d)\n",
    "\n",
    "CV_dag = np.kron(id,c_dag) @ cx @ np.kron(id,b_dag) @ cx @ np.kron(d_dag,a_dag)\n",
    "\n",
    "CCX = CV_13 @ np.kron(cx, id) @ np.kron(id, CV_dag) @ np.kron(cx, id) @ np.kron(id, CV)\n",
    "\n",
    "print(CCX)"
   ]
  },
  {
   "cell_type": "code",
   "execution_count": null,
   "metadata": {},
   "outputs": [],
   "source": []
  }
 ],
 "metadata": {
  "kernelspec": {
   "display_name": "Python 3",
   "language": "python",
   "name": "python3"
  },
  "language_info": {
   "codemirror_mode": {
    "name": "ipython",
    "version": 3
   },
   "file_extension": ".py",
   "mimetype": "text/x-python",
   "name": "python",
   "nbconvert_exporter": "python",
   "pygments_lexer": "ipython3",
   "version": "3.11.3"
  },
  "orig_nbformat": 4
 },
 "nbformat": 4,
 "nbformat_minor": 2
}
