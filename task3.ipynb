{
 "cells": [
  {
   "cell_type": "code",
   "execution_count": 11,
   "metadata": {},
   "outputs": [],
   "source": [
    "import numpy as np"
   ]
  },
  {
   "cell_type": "markdown",
   "metadata": {},
   "source": [
    "First, let us define the true values for the gates we aim to construct, so we may compare our results to them later. For any n-controlled gate, this is the same as the 2^(n+1) by 2^(n+1) Identity matrix with the last two rows permuted:"
   ]
  },
  {
   "cell_type": "code",
   "execution_count": 2,
   "metadata": {},
   "outputs": [
    {
     "name": "stdout",
     "output_type": "stream",
     "text": [
      "[[1. 0. 0. 0. 0. 0. 0. 0.]\n",
      " [0. 1. 0. 0. 0. 0. 0. 0.]\n",
      " [0. 0. 1. 0. 0. 0. 0. 0.]\n",
      " [0. 0. 0. 1. 0. 0. 0. 0.]\n",
      " [0. 0. 0. 0. 1. 0. 0. 0.]\n",
      " [0. 0. 0. 0. 0. 1. 0. 0.]\n",
      " [0. 0. 0. 0. 0. 0. 0. 1.]\n",
      " [0. 0. 0. 0. 0. 0. 1. 0.]]\n"
     ]
    }
   ],
   "source": [
    "CCX_correct = np.eye(2**3)\n",
    "CCX_correct[[-1, -2]] = CCX_correct[[-2, -1]]\n",
    "print(CCX_correct)"
   ]
  },
  {
   "cell_type": "code",
   "execution_count": 3,
   "metadata": {},
   "outputs": [
    {
     "name": "stdout",
     "output_type": "stream",
     "text": [
      "[[1. 0. 0. 0. 0. 0. 0. 0. 0. 0. 0. 0. 0. 0. 0. 0.]\n",
      " [0. 1. 0. 0. 0. 0. 0. 0. 0. 0. 0. 0. 0. 0. 0. 0.]\n",
      " [0. 0. 1. 0. 0. 0. 0. 0. 0. 0. 0. 0. 0. 0. 0. 0.]\n",
      " [0. 0. 0. 1. 0. 0. 0. 0. 0. 0. 0. 0. 0. 0. 0. 0.]\n",
      " [0. 0. 0. 0. 1. 0. 0. 0. 0. 0. 0. 0. 0. 0. 0. 0.]\n",
      " [0. 0. 0. 0. 0. 1. 0. 0. 0. 0. 0. 0. 0. 0. 0. 0.]\n",
      " [0. 0. 0. 0. 0. 0. 1. 0. 0. 0. 0. 0. 0. 0. 0. 0.]\n",
      " [0. 0. 0. 0. 0. 0. 0. 1. 0. 0. 0. 0. 0. 0. 0. 0.]\n",
      " [0. 0. 0. 0. 0. 0. 0. 0. 1. 0. 0. 0. 0. 0. 0. 0.]\n",
      " [0. 0. 0. 0. 0. 0. 0. 0. 0. 1. 0. 0. 0. 0. 0. 0.]\n",
      " [0. 0. 0. 0. 0. 0. 0. 0. 0. 0. 1. 0. 0. 0. 0. 0.]\n",
      " [0. 0. 0. 0. 0. 0. 0. 0. 0. 0. 0. 1. 0. 0. 0. 0.]\n",
      " [0. 0. 0. 0. 0. 0. 0. 0. 0. 0. 0. 0. 1. 0. 0. 0.]\n",
      " [0. 0. 0. 0. 0. 0. 0. 0. 0. 0. 0. 0. 0. 1. 0. 0.]\n",
      " [0. 0. 0. 0. 0. 0. 0. 0. 0. 0. 0. 0. 0. 0. 0. 1.]\n",
      " [0. 0. 0. 0. 0. 0. 0. 0. 0. 0. 0. 0. 0. 0. 1. 0.]]\n"
     ]
    }
   ],
   "source": [
    "CCCX_correct = np.eye(2**4)\n",
    "CCCX_correct[[-1, -2]] = CCCX_correct[[-2, -1]]\n",
    "print(CCCX_correct)"
   ]
  },
  {
   "cell_type": "code",
   "execution_count": 4,
   "metadata": {},
   "outputs": [],
   "source": [
    "# True n-controlled not gate on n+1th qubit\n",
    "def CnX_correct(n):\n",
    "    CnX = np.eye(2**(n+1))\n",
    "    CnX[[-1, -2]] = CnX[[-2, -1 ]]\n",
    "    return CnX"
   ]
  },
  {
   "attachments": {
    "image.png": {
     "image/png": "[encoded data removed]"
    }
   },
   "cell_type": "markdown",
   "metadata": {},
   "source": [
    "Next, we define some useful operators and functions. These include some straightforward tools like the 2x2 identity matrix, CX gate matrix, functions for multiple tensor products, non-adjacent CX gates, and the parameterized unitary given in the task. They also include nontrivial functions which implement a controlled kth-root-pauli X gate, as well as its hermitian conjugate. This implementation is based on the following construction from [1]:\n",
    "\n",
    "![image.png](attachment:image.png)\n"
   ]
  },
  {
   "cell_type": "code",
   "execution_count": 5,
   "metadata": {},
   "outputs": [],
   "source": [
    "### Useful Operators ###\n",
    "id = np.eye(2)\n",
    "cx = np.array([[1, 0, 0, 0], [0, 1, 0, 0], [0, 0, 0, 1], [0, 0, 1, 0]])"
   ]
  },
  {
   "cell_type": "code",
   "execution_count": 6,
   "metadata": {},
   "outputs": [],
   "source": [
    "### Helper Functions ###\n",
    "\n",
    "# Returns the kronecker product of many operators\n",
    "def multikron(ops):\n",
    "    if len(ops) >=3:\n",
    "        return np.kron(ops[0], multikron(ops[1:]))\n",
    "    else:\n",
    "        return np.kron(ops[0], ops[1])\n",
    "\n",
    "# Arbitrary CNOT matrix (supports nonadjacent qubits)\n",
    "## c = control, t = target, n = number of qubits\n",
    "def arb_cx(c, t, n):\n",
    "    ops0 = [id] * n\n",
    "    ops0[c-1] = np.array([[1,0],[0,0]])\n",
    "\n",
    "    ops1 = [id] * n\n",
    "    ops1[c-1] = np.array([[0,0],[0,1]])\n",
    "    ops1[t-1] = np.array([[0,1],[1,0]])\n",
    "\n",
    "    return multikron(ops0) + multikron(ops1)\n",
    "\n",
    "# Returns parameterized unitary as given in the task\n",
    "def U(t, p, l):\n",
    "    return np.array([[np.cos(t/2), -np.exp(1j*l)*np.sin(t/2)],\n",
    "                     [np.exp(1j*p)*np.sin(t/2), np.exp(1j*(p+l))*np.cos(t/2)]])\n",
    "\n",
    "# Arbitrary Controlled-kth-root-X (supports nonadjacent qubits), and hermitian conjugate version\n",
    "def krx(k, c, t, n):\n",
    "    H = U(np.pi/2, 0, np.pi)\n",
    "    Zrt = U(0, 0, np.pi/(2*k))\n",
    "    Zrt_dag = U(0, -np.pi/(2*k) - np.pi, -np.pi)\n",
    "\n",
    "    ops1 = [id] * n\n",
    "    ops1[t-1] = H\n",
    "\n",
    "    ops3 = [id] * n\n",
    "    ops3[t-1] = Zrt_dag\n",
    "\n",
    "    ops5 = [id] * n\n",
    "    ops5[c-1] = Zrt\n",
    "    ops5[t-1] = H @ Zrt\n",
    "\n",
    "    return multikron(ops5) @ arb_cx(c,t,n) @ multikron(ops3) @ arb_cx(c,t,n) @ multikron(ops1)\n",
    "\n",
    "def krx_dag(k, c, t, n):\n",
    "    H = U(np.pi/2, 0, np.pi)\n",
    "    Zrt = U(0, 0, np.pi/(2*k))\n",
    "    Zrt_dag = U(0, -np.pi/(2*k) - np.pi, -np.pi)\n",
    "\n",
    "    ops1 = [id] * n\n",
    "    ops1[t-1] = H\n",
    "\n",
    "    ops3 = [id] * n\n",
    "    ops3[t-1] = Zrt\n",
    "\n",
    "    ops5 = [id] * n\n",
    "    ops5[c-1] = Zrt_dag\n",
    "    ops5[t-1] = Zrt_dag @ H\n",
    "\n",
    "    return multikron(ops1) @ arb_cx(c,t,n) @ multikron(ops3) @ arb_cx(c,t,n) @ multikron(ops5)"
   ]
  },
  {
   "cell_type": "code",
   "execution_count": 7,
   "metadata": {},
   "outputs": [
    {
     "name": "stdout",
     "output_type": "stream",
     "text": [
      "1.055376132229156e-15\n"
     ]
    }
   ],
   "source": [
    "### CCX ###\n",
    "timesteps = []\n",
    "\n",
    "timesteps.append(krx(2,2,3,3))\n",
    "timesteps.append(arb_cx(1,2,3))\n",
    "timesteps.append(krx_dag(2,2,3,3))\n",
    "timesteps.append(arb_cx(1,2,3))\n",
    "timesteps.append(krx(2,1,3,3))\n",
    "\n",
    "CCX = np.eye(2**3)\n",
    "for timestep in timesteps:\n",
    "    CCX = timestep @ CCX\n",
    "\n",
    "print(np.linalg.norm(CCX - CCX_correct, ord=2))"
   ]
  },
  {
   "cell_type": "code",
   "execution_count": 8,
   "metadata": {},
   "outputs": [
    {
     "name": "stdout",
     "output_type": "stream",
     "text": [
      "2.5075781074669538e-15\n"
     ]
    }
   ],
   "source": [
    "### CCCX ###\n",
    "timesteps = []\n",
    "\n",
    "timesteps.append(krx(4, 1, 4, 4))\n",
    "timesteps.append(arb_cx(1, 2, 4))\n",
    "timesteps.append(krx_dag(4, 2, 4, 4))\n",
    "timesteps.append(arb_cx(1, 2, 4))\n",
    "timesteps.append(krx(4, 2, 4, 4))\n",
    "timesteps.append(arb_cx(2, 3, 4))\n",
    "timesteps.append(krx_dag(4, 3, 4, 4))\n",
    "timesteps.append(arb_cx(1, 3, 4))\n",
    "timesteps.append(krx(4, 3, 4, 4))\n",
    "timesteps.append(arb_cx(2, 3, 4))\n",
    "timesteps.append(krx_dag(4, 3, 4, 4))\n",
    "timesteps.append(arb_cx(1, 3, 4))\n",
    "timesteps.append(krx(4, 3, 4, 4))\n",
    "\n",
    "CCCX = np.eye(2**4)\n",
    "for timestep in timesteps:\n",
    "    CCCX = timestep @ CCCX\n",
    "\n",
    "print(np.linalg.norm(CCCX - CCCX_correct, ord=2))\n"
   ]
  },
  {
   "cell_type": "code",
   "execution_count": 9,
   "metadata": {},
   "outputs": [],
   "source": [
    "### n-controlled kth-root-X gate on jth qubit ###\n",
    "def CnrX(n, k, j):\n",
    "    if n >=2 :\n",
    "        output = np.eye(2**j)\n",
    "        timesteps = []\n",
    "        timesteps.append(krx(2*k, n, j, j))\n",
    "        timesteps.append(multikron([CnrX(n-1, 1, n)] + [id] * (j - n)))\n",
    "        timesteps.append(krx_dag(2*k, n, j, j))\n",
    "        timesteps.append(multikron([CnrX(n-1, 1, n)] + [id] * (j - n)))\n",
    "        timesteps.append(CnrX(n-1, 2*k, j))\n",
    "        \n",
    "        for timestep in timesteps:\n",
    "            output = timestep @ output\n",
    "\n",
    "        return output\n",
    "    \n",
    "    else:\n",
    "        return krx(k, 1, j, j)\n",
    "\n",
    "### n-controlled not gate ###\n",
    "def CnX(n):\n",
    "    return CnrX(n, 1, n+1)"
   ]
  },
  {
   "cell_type": "code",
   "execution_count": 10,
   "metadata": {},
   "outputs": [
    {
     "name": "stdout",
     "output_type": "stream",
     "text": [
      "For an 1-controlled not gate, we have op2-norm error: 3.6462582309242003e-16\n",
      "For an 2-controlled not gate, we have op2-norm error: 1.6068590775900611e-15\n",
      "For an 3-controlled not gate, we have op2-norm error: 4.861154338146604e-15\n",
      "For an 4-controlled not gate, we have op2-norm error: 1.4458925647940633e-14\n"
     ]
    },
    {
     "name": "stdout",
     "output_type": "stream",
     "text": [
      "For an 5-controlled not gate, we have op2-norm error: 4.316927405939656e-14\n",
      "For an 6-controlled not gate, we have op2-norm error: 1.2952354382632386e-13\n",
      "For an 7-controlled not gate, we have op2-norm error: 3.8870678742496605e-13\n",
      "For an 8-controlled not gate, we have op2-norm error: 1.165283540110665e-12\n",
      "For an 9-controlled not gate, we have op2-norm error: 3.4972120617108844e-12\n"
     ]
    }
   ],
   "source": [
    "for n in range(1, 10):\n",
    "    error = np.linalg.norm(CnX(n) - CnX_correct(n), ord=2)\n",
    "    print('For an '+str(n)+'-controlled not gate, we have op2-norm error: '+str(error))"
   ]
  }
 ],
 "metadata": {
  "kernelspec": {
   "display_name": "Python 3",
   "language": "python",
   "name": "python3"
  },
  "language_info": {
   "codemirror_mode": {
    "name": "ipython",
    "version": 3
   },
   "file_extension": ".py",
   "mimetype": "text/x-python",
   "name": "python",
   "nbconvert_exporter": "python",
   "pygments_lexer": "ipython3",
   "version": "3.11.3"
  }
 },
 "nbformat": 4,
 "nbformat_minor": 2
}
